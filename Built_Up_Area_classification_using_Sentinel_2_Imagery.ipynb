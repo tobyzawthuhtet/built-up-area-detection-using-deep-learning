{
  "nbformat": 4,
  "nbformat_minor": 0,
  "metadata": {
    "colab": {
      "name": "Built Up Area classification using Sentinel 2 Imagery.ipynb",
      "provenance": [],
      "collapsed_sections": [],
      "mount_file_id": "1fp_G3L5qVjUeE629hO5mpO1irBFMhTPT",
      "authorship_tag": "ABX9TyP4YTYsBAgIn5MO75LAbR8I",
      "include_colab_link": true
    },
    "kernelspec": {
      "name": "python3",
      "display_name": "Python 3"
    },
    "language_info": {
      "name": "python"
    }
  },
  "cells": [
    {
      "cell_type": "markdown",
      "metadata": {
        "id": "view-in-github",
        "colab_type": "text"
      },
      "source": [
        "<a href=\"https://colab.research.google.com/github/tobyzawthuhtet/built-up-area-detection-using-deep-learning/blob/main/Built_Up_Area_classification_using_Sentinel_2_Imagery.ipynb\" target=\"_parent\"><img src=\"https://colab.research.google.com/assets/colab-badge.svg\" alt=\"Open In Colab\"/></a>"
      ]
    },
    {
      "cell_type": "code",
      "metadata": {
        "colab": {
          "base_uri": "https://localhost:8080/"
        },
        "id": "ZUY_rDOTHLUN",
        "outputId": "e72748d0-6d25-4a23-9df0-cf10bb98bef2"
      },
      "source": [
        "!pip install pyrsgis"
      ],
      "execution_count": 1,
      "outputs": [
        {
          "output_type": "stream",
          "text": [
            "Requirement already satisfied: pyrsgis in /usr/local/lib/python3.7/dist-packages (0.3.7)\n"
          ],
          "name": "stdout"
        }
      ]
    },
    {
      "cell_type": "code",
      "metadata": {
        "id": "8LclcYgJzx9O",
        "colab": {
          "base_uri": "https://localhost:8080/"
        },
        "outputId": "2634801f-2f25-48f7-cc3f-9c03b0c863f7"
      },
      "source": [
        "  \n",
        "import os\n",
        "import numpy as np\n",
        "from tensorflow import keras\n",
        "from pyrsgis import raster\n",
        "from pyrsgis.convert import changeDimension\n",
        "from sklearn.model_selection import train_test_split\n",
        "from sklearn.metrics import confusion_matrix, precision_score, recall_score\n",
        "import matplotlib.pyplot as plt\n",
        "\n",
        "import glob"
      ],
      "execution_count": 2,
      "outputs": [
        {
          "output_type": "stream",
          "text": [
            "Warning! matplotlib_scalebar library not found. You may not be able to export map directly.\n"
          ],
          "name": "stdout"
        }
      ]
    },
    {
      "cell_type": "code",
      "metadata": {
        "id": "gSAmEU4lDKL3"
      },
      "source": [
        "os.chdir('/content/drive/MyDrive/Build Up extraction using DL')"
      ],
      "execution_count": 3,
      "outputs": []
    },
    {
      "cell_type": "code",
      "metadata": {
        "colab": {
          "base_uri": "https://localhost:8080/"
        },
        "id": "yc9UgyvJGP9h",
        "outputId": "bb1053bf-bebc-4543-8d57-4c92cb53e9f2"
      },
      "source": [
        "data = glob.glob(\"*.tif\")\n",
        "for i in data:\n",
        "  print(i)"
      ],
      "execution_count": 4,
      "outputs": [
        {
          "output_type": "stream",
          "text": [
            "training_labels2.tif\n",
            "Sentinel 2.tif\n",
            "testing_data.tif\n",
            "testing_dataS2.tif\n"
          ],
          "name": "stdout"
        }
      ]
    },
    {
      "cell_type": "code",
      "metadata": {
        "id": "goPWYygOGWd0"
      },
      "source": [
        "mxTraining = 'Sentinel 2.tif'\n",
        "builtupTraining = 'training_labels2.tif'\n",
        "mxTesting = 'testing_dataS2.tif'\n",
        "#mxYangon='Clip_Composite_L5.tif'"
      ],
      "execution_count": 5,
      "outputs": []
    },
    {
      "cell_type": "code",
      "metadata": {
        "id": "TXWlv8U0g4-t"
      },
      "source": [
        ""
      ],
      "execution_count": 5,
      "outputs": []
    },
    {
      "cell_type": "code",
      "metadata": {
        "id": "DPm0HqYoGsp1"
      },
      "source": [
        "ds1, featuresTrain = raster.read(mxTraining, bands='all')\n",
        "ds2, labelTrain = raster.read(builtupTraining, bands=1)\n",
        "ds3, featuresTest = raster.read(mxTesting, bands='all')\n",
        "#ds4, featuresYangon = raster.read(mxYangon ,bands='all')\n"
      ],
      "execution_count": 6,
      "outputs": []
    },
    {
      "cell_type": "code",
      "metadata": {
        "colab": {
          "base_uri": "https://localhost:8080/"
        },
        "id": "zi1Im8nmHKwz",
        "outputId": "61fac324-d8fe-4e1e-ec1a-03cdda201326"
      },
      "source": [
        "print(\"Bangalore Multispectral image shape: \", featuresTrain.shape)\n",
        "print(\"Bangalore Binary built-up image shape: \", labelTrain.shape)\n",
        "print(\"Hyderabad Multispectral image shape: \", featuresTest.shape)\n",
        "#print('Yangon Multispectral image shape: ', featuresYangon.shape)"
      ],
      "execution_count": 7,
      "outputs": [
        {
          "output_type": "stream",
          "text": [
            "Bangalore Multispectral image shape:  (13, 1546, 1652)\n",
            "Bangalore Binary built-up image shape:  (1546, 1652)\n",
            "Hyderabad Multispectral image shape:  (13, 1513, 1370)\n"
          ],
          "name": "stdout"
        }
      ]
    },
    {
      "cell_type": "code",
      "metadata": {
        "id": "lq3tgqeDHNQl"
      },
      "source": [
        "labelTrain = (labelTrain == 1).astype(int)"
      ],
      "execution_count": 8,
      "outputs": []
    },
    {
      "cell_type": "code",
      "metadata": {
        "id": "b5PLVWa2HOV6",
        "colab": {
          "base_uri": "https://localhost:8080/"
        },
        "outputId": "df064eb1-a0e3-4e8f-c245-946c5068c0c3"
      },
      "source": [
        "print(\"Training Multispectral image shape: \", featuresTrain.shape)\n",
        "print(\"Training Binary built-up image shape: \", labelTrain.shape)\n",
        "print(\"Testing Multispectral image shape: \", featuresTest.shape)\n",
        "#print(\"Yangon Multispectral image shape:\", featuresYangon.shape)\n"
      ],
      "execution_count": 9,
      "outputs": [
        {
          "output_type": "stream",
          "text": [
            "Bangalore Multispectral image shape:  (13, 1546, 1652)\n",
            "Bangalore Binary built-up image shape:  (1546, 1652)\n",
            "Hyderabad Multispectral image shape:  (13, 1513, 1370)\n"
          ],
          "name": "stdout"
        }
      ]
    },
    {
      "cell_type": "code",
      "metadata": {
        "id": "y_xSio_tKcrB"
      },
      "source": [
        "featuresTrain = changeDimension(featuresTrain)\n",
        "labelTrain = changeDimension (labelTrain)\n",
        "featuresTest = changeDimension(featuresTest)\n",
        "#featuresYangon= changeDimension(featuresYangon)\n",
        "nBands = featuresTrain.shape[1]"
      ],
      "execution_count": 10,
      "outputs": []
    },
    {
      "cell_type": "code",
      "metadata": {
        "id": "UsJ2cD5CHhxB"
      },
      "source": [
        "xTrain, xTest, yTrain, yTest = train_test_split(featuresTrain, labelTrain, test_size=0.4, random_state=42)\n"
      ],
      "execution_count": 11,
      "outputs": []
    },
    {
      "cell_type": "code",
      "metadata": {
        "colab": {
          "base_uri": "https://localhost:8080/"
        },
        "id": "rZx0LKK6Hk6Z",
        "outputId": "67ce01bb-3c73-4774-b9b3-5f6826030ee5"
      },
      "source": [
        "print(xTrain.shape)\n",
        "print(yTrain.shape)\n",
        "\n",
        "print(xTest.shape)\n",
        "print(yTest.shape)"
      ],
      "execution_count": 12,
      "outputs": [
        {
          "output_type": "stream",
          "text": [
            "(1532395, 13)\n",
            "(1532395,)\n",
            "(1021597, 13)\n",
            "(1021597,)\n"
          ],
          "name": "stdout"
        }
      ]
    },
    {
      "cell_type": "code",
      "metadata": {
        "id": "2axklfpaHmFm"
      },
      "source": [
        "xTrain = xTrain / 255.0\n",
        "xTest = xTest / 255.0\n",
        "featuresTest = featuresTest / 255.0\n",
        "#featuresYangon=featuresYangon/255.0\n"
      ],
      "execution_count": 13,
      "outputs": []
    },
    {
      "cell_type": "code",
      "metadata": {
        "id": "H0ZiqLjSHoP8"
      },
      "source": [
        "xTrain = xTrain.reshape((xTrain.shape[0], 1, xTrain.shape[1]))\n",
        "xTest = xTest.reshape((xTest.shape[0], 1, xTest.shape[1]))\n",
        "#featuresYangon = featuresYangon.reshape((featuresYangon.shape[0], 1, featuresYangon.shape[1]))\n"
      ],
      "execution_count": 14,
      "outputs": []
    },
    {
      "cell_type": "code",
      "metadata": {
        "id": "cu8DAFkanSnt"
      },
      "source": [
        "featuresTest = featuresTest.reshape((featuresHyderabad.shape[0], 1, featuresHyderabad.shape[1]))\n"
      ],
      "execution_count": 15,
      "outputs": []
    },
    {
      "cell_type": "code",
      "metadata": {
        "colab": {
          "base_uri": "https://localhost:8080/"
        },
        "id": "hk1-_3rjHpjx",
        "outputId": "70d69ca2-c438-4f1a-802c-057cdf6957ac"
      },
      "source": [
        "print(xTrain.shape, xTest.shape,featuresTest.shape)"
      ],
      "execution_count": 16,
      "outputs": [
        {
          "output_type": "stream",
          "text": [
            "(1532395, 1, 13) (1021597, 1, 13) (2072810, 1, 13)\n"
          ],
          "name": "stdout"
        }
      ]
    },
    {
      "cell_type": "code",
      "metadata": {
        "colab": {
          "base_uri": "https://localhost:8080/"
        },
        "id": "btaRQxXkHu5B",
        "outputId": "2ba0f39f-5ea1-40bc-a84e-f018ab84a92e"
      },
      "source": [
        "model = keras.Sequential([\n",
        "    keras.layers.Flatten(input_shape=(1, nBands)),\n",
        "    keras.layers.Dense(14, activation='relu'),\n",
        "    keras.layers.Dense(2, activation='softmax')])\n",
        "\n",
        "# Define the accuracy metrics and parameters\n",
        "model.compile(optimizer=\"adam\", loss=\"sparse_categorical_crossentropy\", metrics=[\"accuracy\"])\n",
        "\n",
        "# Run the model\n",
        "history = model.fit(xTrain, yTrain,batch_size=10 ,validation_split=0.3, epochs=5)"
      ],
      "execution_count": 17,
      "outputs": [
        {
          "output_type": "stream",
          "text": [
            "Epoch 1/5\n",
            "107268/107268 [==============================] - 148s 1ms/step - loss: 0.3184 - accuracy: 0.8681 - val_loss: 0.2366 - val_accuracy: 0.9023\n",
            "Epoch 2/5\n",
            "107268/107268 [==============================] - 146s 1ms/step - loss: 0.2053 - accuracy: 0.9126 - val_loss: 0.2039 - val_accuracy: 0.9140\n",
            "Epoch 3/5\n",
            "107268/107268 [==============================] - 148s 1ms/step - loss: 0.1952 - accuracy: 0.9169 - val_loss: 0.1826 - val_accuracy: 0.9217\n",
            "Epoch 4/5\n",
            "107268/107268 [==============================] - 145s 1ms/step - loss: 0.1890 - accuracy: 0.9199 - val_loss: 0.1831 - val_accuracy: 0.9226\n",
            "Epoch 5/5\n",
            "107268/107268 [==============================] - 146s 1ms/step - loss: 0.1850 - accuracy: 0.9213 - val_loss: 0.1805 - val_accuracy: 0.9240\n"
          ],
          "name": "stdout"
        }
      ]
    },
    {
      "cell_type": "code",
      "metadata": {
        "colab": {
          "base_uri": "https://localhost:8080/",
          "height": 329
        },
        "id": "-mF79ZpUHrDK",
        "outputId": "d25e840f-6a37-44ed-fdba-53fdf8028b73"
      },
      "source": [
        "print(history.history.keys())\n",
        "# \"Loss\"\n",
        "plt.plot(history.history['loss'])\n",
        "plt.plot(history.history['val_loss'])\n",
        "plt.title('model loss')\n",
        "plt.ylabel('loss')\n",
        "plt.xlabel('epoch')\n",
        "plt.legend(['train', 'validation'], loc='upper left')\n",
        "plt.show()\n",
        "plt.savefig('Model loss.jpg')"
      ],
      "execution_count": 18,
      "outputs": [
        {
          "output_type": "stream",
          "text": [
            "dict_keys(['loss', 'accuracy', 'val_loss', 'val_accuracy'])\n"
          ],
          "name": "stdout"
        },
        {
          "output_type": "display_data",
          "data": {
            "image/png": "[encoded data removed]",
            "text/plain": [
              "<Figure size 432x288 with 1 Axes>"
            ]
          },
          "metadata": {
            "tags": [],
            "needs_background": "light"
          }
        },
        {
          "output_type": "display_data",
          "data": {
            "text/plain": [
              "<Figure size 432x288 with 0 Axes>"
            ]
          },
          "metadata": {
            "tags": []
          }
        }
      ]
    },
    {
      "cell_type": "code",
      "metadata": {
        "colab": {
          "base_uri": "https://localhost:8080/",
          "height": 329
        },
        "id": "9SsOXbh4JS1i",
        "outputId": "b62169c2-94a7-4f19-bd15-14a0ea206e76"
      },
      "source": [
        "print(history.history.keys())\n",
        "# \"Loss\"\n",
        "plt.plot(history.history['accuracy'])\n",
        "plt.plot(history.history['val_accuracy'])\n",
        "plt.title('model accuracy')\n",
        "plt.ylabel('loss')\n",
        "plt.xlabel('epoch')\n",
        "plt.legend(['train', 'validation'], loc='upper left')\n",
        "plt.show()\n",
        "plt.savefig('Model Accuracy.jpg')"
      ],
      "execution_count": 28,
      "outputs": [
        {
          "output_type": "stream",
          "text": [
            "dict_keys(['loss', 'accuracy', 'val_loss', 'val_accuracy'])\n"
          ],
          "name": "stdout"
        },
        {
          "output_type": "display_data",
          "data": {
            "image/png": "[encoded data removed]",
            "text/plain": [
              "<Figure size 432x288 with 1 Axes>"
            ]
          },
          "metadata": {
            "tags": [],
            "needs_background": "light"
          }
        },
        {
          "output_type": "display_data",
          "data": {
            "text/plain": [
              "<Figure size 432x288 with 0 Axes>"
            ]
          },
          "metadata": {
            "tags": []
          }
        }
      ]
    },
    {
      "cell_type": "code",
      "metadata": {
        "colab": {
          "base_uri": "https://localhost:8080/",
          "height": 38
        },
        "id": "8FN7-UeRQ-jC",
        "outputId": "c920e7e1-ee45-4fa1-ce28-2881691161de"
      },
      "source": [
        "os.getcwd()"
      ],
      "execution_count": 20,
      "outputs": [
        {
          "output_type": "execute_result",
          "data": {
            "application/vnd.google.colaboratory.intrinsic+json": {
              "type": "string"
            },
            "text/plain": [
              "'/content/drive/My Drive/Build Up extraction using DL'"
            ]
          },
          "metadata": {
            "tags": []
          },
          "execution_count": 20
        }
      ]
    },
    {
      "cell_type": "code",
      "metadata": {
        "id": "Rr5oZ6JdRCr4"
      },
      "source": [
        "yTestPredicted = model.predict(xTest)\n",
        "yTestPredicted = yTestPredicted[:,1]"
      ],
      "execution_count": 21,
      "outputs": []
    },
    {
      "cell_type": "code",
      "metadata": {
        "colab": {
          "base_uri": "https://localhost:8080/"
        },
        "id": "FAdl6xT4fmp_",
        "outputId": "6e52184a-8a6d-4420-b3ea-20bec1edd4fa"
      },
      "source": [
        "yTestPredicted = (yTestPredicted>0.5).astype(int)\n",
        "cMatrix = confusion_matrix(yTest, yTestPredicted)\n",
        "pScore = precision_score(yTest, yTestPredicted)\n",
        "rScore = recall_score(yTest, yTestPredicted)\n",
        "print(\"Confusion matrix: for 14 nodes\\n\", cMatrix)\n",
        "print(\"\\nP-Score: %.3f, R-Score: %.3f\" % (pScore, rScore))\n"
      ],
      "execution_count": 22,
      "outputs": [
        {
          "output_type": "stream",
          "text": [
            "Confusion matrix: for 14 nodes\n",
            " [[660398  40884]\n",
            " [ 36532 283783]]\n",
            "\n",
            "P-Score: 0.874, R-Score: 0.886\n"
          ],
          "name": "stdout"
        }
      ]
    },
    {
      "cell_type": "code",
      "metadata": {
        "id": "hd9ewDqxgPkC"
      },
      "source": [
        "predicted = model.predict(featuresTest)\n",
        "predicted = predicted[:,1]"
      ],
      "execution_count": 24,
      "outputs": []
    },
    {
      "cell_type": "code",
      "metadata": {
        "id": "EVAs5fefgP_4"
      },
      "source": [
        "prediction = np.reshape(predicted, (ds3.RasterYSize, ds3.RasterXSize))\n",
        "outFile = 'Test_BuiltupNN_predicted.tif'\n",
        "raster.export(prediction, ds3, filename=outFile, dtype='float')"
      ],
      "execution_count": 25,
      "outputs": []
    },
    {
      "cell_type": "code",
      "metadata": {
        "colab": {
          "base_uri": "https://localhost:8080/"
        },
        "id": "BpLMrQRuglPN",
        "outputId": "6d8c927a-da6b-4ea8-d529-4bb6808f1500"
      },
      "source": [
        "ls"
      ],
      "execution_count": 26,
      "outputs": [
        {
          "output_type": "stream",
          "text": [
            "'Model Accuracy.jpg'   Test_BuiltupNN_predicted.tif   training_labels2.tif\n",
            "'Model loss.jpg'       testing_dataS2.tif\n",
            "'Sentinel 2.tif'       testing_data.tif\n"
          ],
          "name": "stdout"
        }
      ]
    },
    {
      "cell_type": "code",
      "metadata": {
        "id": "nvJpmj56goPl"
      },
      "source": [
        "model.save('/content/drive/MyDrive/Build Up extraction using DL/builduparea_detection_version1.h5')"
      ],
      "execution_count": 29,
      "outputs": []
    },
    {
      "cell_type": "code",
      "metadata": {
        "id": "N4k25iShEpOT"
      },
      "source": [
        ""
      ],
      "execution_count": null,
      "outputs": []
    }
  ]
}